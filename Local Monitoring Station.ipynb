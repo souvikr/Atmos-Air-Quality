{
 "cells": [
  {
   "cell_type": "code",
   "execution_count": 1,
   "metadata": {
    "collapsed": true
   },
   "outputs": [],
   "source": [
    "import pandas as pd\n",
    "import numpy as np\n",
    "import matplotlib.pyplot as plt"
   ]
  },
  {
   "cell_type": "code",
   "execution_count": 46,
   "metadata": {},
   "outputs": [
    {
     "data": {
      "text/html": [
       "<div>\n",
       "<style>\n",
       "    .dataframe thead tr:only-child th {\n",
       "        text-align: right;\n",
       "    }\n",
       "\n",
       "    .dataframe thead th {\n",
       "        text-align: left;\n",
       "    }\n",
       "\n",
       "    .dataframe tbody tr th {\n",
       "        vertical-align: top;\n",
       "    }\n",
       "</style>\n",
       "<table border=\"1\" class=\"dataframe\">\n",
       "  <thead>\n",
       "    <tr style=\"text-align: right;\">\n",
       "      <th></th>\n",
       "      <th>IMEI</th>\n",
       "      <th>Date</th>\n",
       "      <th>pm1conc_1hrs</th>\n",
       "      <th>pm10conc_1hrs</th>\n",
       "      <th>pm25raw_1hrs</th>\n",
       "      <th>pm25conc_1hrs</th>\n",
       "      <th>battery</th>\n",
       "      <th>aqi</th>\n",
       "      <th>latitude</th>\n",
       "      <th>longitude</th>\n",
       "      <th>humidity</th>\n",
       "      <th>temperature</th>\n",
       "      <th>wind speed</th>\n",
       "      <th>wind direction</th>\n",
       "      <th>severity</th>\n",
       "      <th>health_impact</th>\n",
       "    </tr>\n",
       "  </thead>\n",
       "  <tbody>\n",
       "    <tr>\n",
       "      <th>0</th>\n",
       "      <td>868996034800250</td>\n",
       "      <td>2018-12-11T16:30:37.449+05:30</td>\n",
       "      <td>91.0</td>\n",
       "      <td>188.0</td>\n",
       "      <td>167.0</td>\n",
       "      <td>167.0</td>\n",
       "      <td>100.0</td>\n",
       "      <td>336.0</td>\n",
       "      <td>23.205244</td>\n",
       "      <td>72.843399</td>\n",
       "      <td>53.9</td>\n",
       "      <td>28.0</td>\n",
       "      <td>0.0</td>\n",
       "      <td>0.0</td>\n",
       "      <td>Very Poor</td>\n",
       "      <td>Respiratory illness on prolonged exposure</td>\n",
       "    </tr>\n",
       "    <tr>\n",
       "      <th>1</th>\n",
       "      <td>868996034800250</td>\n",
       "      <td>2018-12-11T17:10:29.128+05:30</td>\n",
       "      <td>45.0</td>\n",
       "      <td>90.0</td>\n",
       "      <td>75.0</td>\n",
       "      <td>75.0</td>\n",
       "      <td>100.0</td>\n",
       "      <td>150.0</td>\n",
       "      <td>23.205244</td>\n",
       "      <td>72.843399</td>\n",
       "      <td>43.0</td>\n",
       "      <td>30.0</td>\n",
       "      <td>13.0</td>\n",
       "      <td>310.0</td>\n",
       "      <td>Moderate</td>\n",
       "      <td>Breathing discomfort for people with sensitive...</td>\n",
       "    </tr>\n",
       "    <tr>\n",
       "      <th>2</th>\n",
       "      <td>868996034800250</td>\n",
       "      <td>2018-12-19T16:18:42.549+05:30</td>\n",
       "      <td>40.0</td>\n",
       "      <td>72.0</td>\n",
       "      <td>63.0</td>\n",
       "      <td>63.0</td>\n",
       "      <td>99.0</td>\n",
       "      <td>110.0</td>\n",
       "      <td>23.205244</td>\n",
       "      <td>72.843399</td>\n",
       "      <td>35.0</td>\n",
       "      <td>29.0</td>\n",
       "      <td>2.6</td>\n",
       "      <td>0.0</td>\n",
       "      <td>Moderate</td>\n",
       "      <td>Breathing discomfort for people with sensitive...</td>\n",
       "    </tr>\n",
       "  </tbody>\n",
       "</table>\n",
       "</div>"
      ],
      "text/plain": [
       "              IMEI                           Date  pm1conc_1hrs  \\\n",
       "0  868996034800250  2018-12-11T16:30:37.449+05:30          91.0   \n",
       "1  868996034800250  2018-12-11T17:10:29.128+05:30          45.0   \n",
       "2  868996034800250  2018-12-19T16:18:42.549+05:30          40.0   \n",
       "\n",
       "   pm10conc_1hrs  pm25raw_1hrs  pm25conc_1hrs   battery    aqi   latitude  \\\n",
       "0          188.0         167.0          167.0     100.0  336.0  23.205244   \n",
       "1           90.0          75.0           75.0     100.0  150.0  23.205244   \n",
       "2           72.0          63.0           63.0      99.0  110.0  23.205244   \n",
       "\n",
       "    longitude   humidity   temperature   wind speed   wind direction  \\\n",
       "0   72.843399       53.9          28.0          0.0              0.0   \n",
       "1   72.843399       43.0          30.0         13.0            310.0   \n",
       "2   72.843399       35.0          29.0          2.6              0.0   \n",
       "\n",
       "    severity                                      health_impact  \n",
       "0  Very Poor          Respiratory illness on prolonged exposure  \n",
       "1   Moderate  Breathing discomfort for people with sensitive...  \n",
       "2   Moderate  Breathing discomfort for people with sensitive...  "
      ]
     },
     "execution_count": 46,
     "metadata": {},
     "output_type": "execute_result"
    }
   ],
   "source": [
    "s_df.head(3)"
   ]
  },
  {
   "cell_type": "code",
   "execution_count": 22,
   "metadata": {
    "collapsed": true
   },
   "outputs": [],
   "source": [
    "s_df = pd.read_csv('souvik_aqi.csv')"
   ]
  },
  {
   "cell_type": "code",
   "execution_count": 23,
   "metadata": {
    "collapsed": true
   },
   "outputs": [],
   "source": [
    "#s_df = s_df[44:]"
   ]
  },
  {
   "cell_type": "code",
   "execution_count": 63,
   "metadata": {},
   "outputs": [
    {
     "data": {
      "image/png": "[encoded data removed]",
      "text/plain": [
       "<matplotlib.figure.Figure at 0x7f8dc34d2240>"
      ]
     },
     "metadata": {},
     "output_type": "display_data"
    }
   ],
   "source": [
    "# s_df[' humidity'].plot(label = 'Humidity')\n",
    "s_df['pm25conc_1hrs'].plot(label = 'PM2.5')\n",
    "plt.legend()\n",
    "plt.show()"
   ]
  },
  {
   "cell_type": "code",
   "execution_count": 33,
   "metadata": {},
   "outputs": [],
   "source": [
    "df1 = s_df[['Date', 'pm25conc_1hrs', ' aqi',' humidity','severity']]"
   ]
  },
  {
   "cell_type": "code",
   "execution_count": 34,
   "metadata": {},
   "outputs": [
    {
     "data": {
      "text/plain": [
       "Index(['Date', 'pm25conc_1hrs', ' aqi', ' humidity', 'severity'], dtype='object')"
      ]
     },
     "execution_count": 34,
     "metadata": {},
     "output_type": "execute_result"
    }
   ],
   "source": [
    "df1.columns"
   ]
  },
  {
   "cell_type": "code",
   "execution_count": 100,
   "metadata": {},
   "outputs": [
    {
     "data": {
      "text/html": [
       "<div>\n",
       "<style>\n",
       "    .dataframe thead tr:only-child th {\n",
       "        text-align: right;\n",
       "    }\n",
       "\n",
       "    .dataframe thead th {\n",
       "        text-align: left;\n",
       "    }\n",
       "\n",
       "    .dataframe tbody tr th {\n",
       "        vertical-align: top;\n",
       "    }\n",
       "</style>\n",
       "<table border=\"1\" class=\"dataframe\">\n",
       "  <thead>\n",
       "    <tr style=\"text-align: right;\">\n",
       "      <th></th>\n",
       "      <th>Date</th>\n",
       "      <th>pm25conc_1hrs</th>\n",
       "      <th>aqi</th>\n",
       "      <th>humidity</th>\n",
       "      <th>severity</th>\n",
       "    </tr>\n",
       "  </thead>\n",
       "  <tbody>\n",
       "    <tr>\n",
       "      <th>0</th>\n",
       "      <td>2018-12-11T16:30:37.449+05:30</td>\n",
       "      <td>167.0</td>\n",
       "      <td>336.0</td>\n",
       "      <td>53.9</td>\n",
       "      <td>Very Poor</td>\n",
       "    </tr>\n",
       "    <tr>\n",
       "      <th>1</th>\n",
       "      <td>2018-12-11T17:10:29.128+05:30</td>\n",
       "      <td>75.0</td>\n",
       "      <td>150.0</td>\n",
       "      <td>43.0</td>\n",
       "      <td>Moderate</td>\n",
       "    </tr>\n",
       "    <tr>\n",
       "      <th>2</th>\n",
       "      <td>2018-12-19T16:18:42.549+05:30</td>\n",
       "      <td>63.0</td>\n",
       "      <td>110.0</td>\n",
       "      <td>35.0</td>\n",
       "      <td>Moderate</td>\n",
       "    </tr>\n",
       "    <tr>\n",
       "      <th>3</th>\n",
       "      <td>2018-12-29T18:12:36.541+05:30</td>\n",
       "      <td>57.0</td>\n",
       "      <td>95.0</td>\n",
       "      <td>46.4</td>\n",
       "      <td>Satisfactory</td>\n",
       "    </tr>\n",
       "    <tr>\n",
       "      <th>4</th>\n",
       "      <td>2018-12-29T19:00:27.098+05:30</td>\n",
       "      <td>54.0</td>\n",
       "      <td>90.0</td>\n",
       "      <td>47.4</td>\n",
       "      <td>Satisfactory</td>\n",
       "    </tr>\n",
       "  </tbody>\n",
       "</table>\n",
       "</div>"
      ],
      "text/plain": [
       "                            Date  pm25conc_1hrs    aqi   humidity  \\\n",
       "0  2018-12-11T16:30:37.449+05:30          167.0  336.0       53.9   \n",
       "1  2018-12-11T17:10:29.128+05:30           75.0  150.0       43.0   \n",
       "2  2018-12-19T16:18:42.549+05:30           63.0  110.0       35.0   \n",
       "3  2018-12-29T18:12:36.541+05:30           57.0   95.0       46.4   \n",
       "4  2018-12-29T19:00:27.098+05:30           54.0   90.0       47.4   \n",
       "\n",
       "       severity  \n",
       "0     Very Poor  \n",
       "1      Moderate  \n",
       "2      Moderate  \n",
       "3  Satisfactory  \n",
       "4  Satisfactory  "
      ]
     },
     "execution_count": 100,
     "metadata": {},
     "output_type": "execute_result"
    }
   ],
   "source": [
    "df1.head(5)"
   ]
  },
  {
   "cell_type": "code",
   "execution_count": 99,
   "metadata": {},
   "outputs": [
    {
     "data": {
      "image/png": "[encoded data removed]",
      "text/plain": [
       "<matplotlib.figure.Figure at 0x7f8dc2895278>"
      ]
     },
     "metadata": {},
     "output_type": "display_data"
    }
   ],
   "source": [
    "df1['severity'].value_counts()\n",
    "data = {'Satisfactory': 40, 'Very Poor': 22, 'Moderate': 20, 'Poor': 10}\n",
    "names = list(data.keys())\n",
    "values = list(data.values())\n",
    "index = np.arange(len(names))\n",
    "plt.bar(index,values)\n",
    "plt.xlabel('Severity')\n",
    "plt.ylabel('No. of data points')\n",
    "plt.xticks(index, names, fontsize=12)\n",
    "plt.title('Plotting Severity of PM2.5: ')\n",
    "plt.show()"
   ]
  },
  {
   "cell_type": "code",
   "execution_count": 77,
   "metadata": {},
   "outputs": [
    {
     "data": {
      "image/png": "[encoded data removed]",
      "text/plain": [
       "<matplotlib.figure.Figure at 0x7f8dc2a10e10>"
      ]
     },
     "metadata": {},
     "output_type": "display_data"
    }
   ],
   "source": [
    "y=np.array(list(df1['pm25conc_1hrs']))\n",
    "x= np.array([i for i in range(0,92)])\n",
    "mean = [np.mean(y)]*len(x)\n",
    "fig,ax = plt.subplots()\n",
    "\n",
    "# Plot the data\n",
    "data_line = ax.plot(x,y, label='Data', marker='o')\n",
    "\n",
    "# Plot the average line\n",
    "mean_line = ax.plot(x,mean, label='Mean', linestyle='--')\n",
    "\n",
    "# Make a legend\n",
    "legend = ax.legend(loc='upper right')\n",
    "\n",
    "plt.show()"
   ]
  },
  {
   "cell_type": "code",
   "execution_count": null,
   "metadata": {
    "collapsed": true
   },
   "outputs": [],
   "source": []
  }
 ],
 "metadata": {
  "kernelspec": {
   "display_name": "Python 3",
   "language": "python",
   "name": "python3"
  },
  "language_info": {
   "codemirror_mode": {
    "name": "ipython",
    "version": 3
   },
   "file_extension": ".py",
   "mimetype": "text/x-python",
   "name": "python",
   "nbconvert_exporter": "python",
   "pygments_lexer": "ipython3",
   "version": "3.6.1"
  }
 },
 "nbformat": 4,
 "nbformat_minor": 2
}
